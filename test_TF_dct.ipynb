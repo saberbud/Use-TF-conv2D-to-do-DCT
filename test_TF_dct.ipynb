{
 "cells": [
  {
   "cell_type": "code",
   "execution_count": 1,
   "metadata": {},
   "outputs": [],
   "source": [
    "import numpy as np\n",
    "import tensorflow as tf\n",
    "from dct_funcs import *\n",
    "np.random.seed(73)"
   ]
  },
  {
   "cell_type": "code",
   "execution_count": 2,
   "metadata": {},
   "outputs": [
    {
     "name": "stdout",
     "output_type": "stream",
     "text": [
      "input_image_size: 8\n",
      "coef_cos.shape: (8, 8)\n",
      "coef_cos: \n",
      "[[ 1.          1.          1.          1.          1.          1.\n",
      "   1.          1.        ]\n",
      " [ 0.98078528  0.83146961  0.55557023  0.19509032 -0.19509032 -0.55557023\n",
      "  -0.83146961 -0.98078528]\n",
      " [ 0.92387953  0.38268343 -0.38268343 -0.92387953 -0.92387953 -0.38268343\n",
      "   0.38268343  0.92387953]\n",
      " [ 0.83146961 -0.19509032 -0.98078528 -0.55557023  0.55557023  0.98078528\n",
      "   0.19509032 -0.83146961]\n",
      " [ 0.70710678 -0.70710678 -0.70710678  0.70710678  0.70710678 -0.70710678\n",
      "  -0.70710678  0.70710678]\n",
      " [ 0.55557023 -0.98078528  0.19509032  0.83146961 -0.83146961 -0.19509032\n",
      "   0.98078528 -0.55557023]\n",
      " [ 0.38268343 -0.92387953  0.92387953 -0.38268343 -0.38268343  0.92387953\n",
      "  -0.92387953  0.38268343]\n",
      " [ 0.19509032 -0.55557023  0.83146961 -0.98078528  0.98078528 -0.83146961\n",
      "   0.55557023 -0.19509032]]\n",
      "\n"
     ]
    }
   ],
   "source": [
    "input_image_size = 8\n",
    "NC = 1\n",
    "print(\"input_image_size: \" + str(input_image_size))\n",
    "\n",
    "coef_cos = prep_coef_cos(np.float32, Nd=8)\n",
    "print(\"coef_cos.shape: \" + str(coef_cos.shape))\n",
    "print(\"coef_cos: \\n\" + str(coef_cos) + '\\n')\n",
    "\n",
    "im_c = np.random.randint(0,255,[8,8])\n",
    "\n",
    "n = 8\n",
    "stride_size = n\n",
    "type1=np.float32\n",
    "\n",
    "dct_kern = np.zeros([n,n,1,64])\n",
    "dct_kern = dct_kern.astype(type1)"
   ]
  },
  {
   "cell_type": "code",
   "execution_count": 3,
   "metadata": {},
   "outputs": [
    {
     "name": "stdout",
     "output_type": "stream",
     "text": [
      "\n",
      "compW: Tensor(\"Const:0\", shape=(8, 8, 1, 64), dtype=float32)\n"
     ]
    }
   ],
   "source": [
    "i_n =0\n",
    "for iu in range(n):\n",
    "    for iv in range(n):\n",
    "        dctW = dct_W(coef_cos, iu, iv, type1, type1)\n",
    "        dct_kern[:,:,0,i_n] = dctW[:,:,0,0]\n",
    "        i_n = i_n + 1\n",
    "\n",
    "#Conv2D kernel\n",
    "compW = tf.constant(dct_kern)\n",
    "print(\"\\ncompW: \" + str(compW))"
   ]
  },
  {
   "cell_type": "code",
   "execution_count": 4,
   "metadata": {},
   "outputs": [
    {
     "name": "stdout",
     "output_type": "stream",
     "text": [
      "Tensor(\"DATA/Placeholder:0\", shape=(?, 8, 8, 1), dtype=float32)\n",
      "Tensor(\"Compress_Conv/Conv2D:0\", shape=(?, 1, 1, 64), dtype=float32)\n"
     ]
    }
   ],
   "source": [
    "## input layer\n",
    "with tf.name_scope('DATA'):\n",
    "    Data_in = tf.placeholder(tf.float32,shape=[None,input_image_size,input_image_size,NC])\n",
    "    print(Data_in)\n",
    "\n",
    "\n",
    "with tf.name_scope('Compress_Conv'):\n",
    "    comp = tf.nn.conv2d(Data_in, compW, strides=[1, stride_size, stride_size, 1], padding='VALID')\n",
    "    print(comp)"
   ]
  },
  {
   "cell_type": "code",
   "execution_count": 5,
   "metadata": {},
   "outputs": [],
   "source": [
    "# Put image in proper format\n",
    "data_in = np.zeros([1,input_image_size,input_image_size,NC])\n",
    "data_in[0,:,:,0] = im_c"
   ]
  },
  {
   "cell_type": "code",
   "execution_count": 6,
   "metadata": {},
   "outputs": [],
   "source": [
    "#Run example compression:\n",
    "with tf.Session() as sess:\n",
    "    comp_o=sess.run(comp,feed_dict={Data_in:data_in})"
   ]
  },
  {
   "cell_type": "code",
   "execution_count": 7,
   "metadata": {},
   "outputs": [
    {
     "name": "stdout",
     "output_type": "stream",
     "text": [
      "\n",
      "comp_o shape: (1, 1, 1, 64)\n",
      "\n",
      "comp_o: \n",
      "[[[[ 9.37499939e+02  9.82029953e+01  7.94020691e+01  6.68032532e+01\n",
      "    -4.07500000e+01  8.61678009e+01  9.35352325e-01 -1.64789932e+02\n",
      "     2.04412079e+00  1.22867027e+02 -1.14696205e+02 -1.61257896e+01\n",
      "     6.38304977e+01  6.71096611e+00  8.94229889e-01  2.76039562e+01\n",
      "     8.35222321e+01 -1.32541962e+02  4.48975906e+01 -9.61036682e+00\n",
      "     1.75434113e+01  3.80550766e+01  3.11038017e+01 -8.01738663e+01\n",
      "    -6.42647552e+01  1.58439392e+02  5.27777405e+01 -6.43810883e+01\n",
      "    -7.13396301e+01 -2.42038517e+01  6.53008270e+01 -2.52245598e+01\n",
      "    -7.49999847e+01 -1.21392952e+02 -3.99551849e+01 -2.38254375e+01\n",
      "    -1.57750000e+02  4.27300358e+00  1.34801331e+02  7.62428131e+01\n",
      "     6.43402863e+00  5.35582008e+01  2.63879929e+01  4.28410721e+00\n",
      "    -3.22338104e+01  1.12583447e+01 -1.05793221e+02  7.57403469e+00\n",
      "    -3.81138153e+01  7.10592651e+01  2.93537998e+01 -1.62391701e+01\n",
      "     5.28060608e+01 -3.48407173e+01 -4.91475906e+01  3.75562477e+01\n",
      "     3.14497890e+01  1.21091934e+02 -3.80394592e+01  9.65442085e+00\n",
      "     4.95724869e+01  5.40579796e-01  5.46123390e+01 -1.72442818e+01]]]]\n"
     ]
    }
   ],
   "source": [
    "#Check output:\n",
    "print(\"\\ncomp_o shape: \" + str(comp_o.shape))\n",
    "print(\"\\ncomp_o: \\n\" + str(comp_o))"
   ]
  },
  {
   "cell_type": "code",
   "execution_count": 8,
   "metadata": {},
   "outputs": [
    {
     "name": "stdout",
     "output_type": "stream",
     "text": [
      "to2dW: Tensor(\"Const_1:0\", shape=(8, 8, 1, 64), dtype=float32)\n"
     ]
    }
   ],
   "source": [
    "to2d_kern = np.zeros([n,n,1,64])\n",
    "to2d_kern = to2d_kern.astype(type1)\n",
    "i_n =0\n",
    "for iu in range(n):\n",
    "    for iv in range(n):\n",
    "        to2d_kern[iu,iv,0,i_n] = 1.0\n",
    "        i_n = i_n + 1\n",
    "        \n",
    "#Conv2D kernel\n",
    "to2dW = tf.constant(to2d_kern)\n",
    "print(\"to2dW: \" + str(to2dW))"
   ]
  },
  {
   "cell_type": "code",
   "execution_count": 9,
   "metadata": {},
   "outputs": [
    {
     "data": {
      "text/plain": [
       "array([[0., 1., 0., 0., 0., 0., 0., 0.],\n",
       "       [0., 0., 0., 0., 0., 0., 0., 0.],\n",
       "       [0., 0., 0., 0., 0., 0., 0., 0.],\n",
       "       [0., 0., 0., 0., 0., 0., 0., 0.],\n",
       "       [0., 0., 0., 0., 0., 0., 0., 0.],\n",
       "       [0., 0., 0., 0., 0., 0., 0., 0.],\n",
       "       [0., 0., 0., 0., 0., 0., 0., 0.],\n",
       "       [0., 0., 0., 0., 0., 0., 0., 0.]], dtype=float32)"
      ]
     },
     "execution_count": 9,
     "metadata": {},
     "output_type": "execute_result"
    }
   ],
   "source": [
    "to2d_kern[...,0,1]"
   ]
  },
  {
   "cell_type": "code",
   "execution_count": 10,
   "metadata": {},
   "outputs": [
    {
     "name": "stdout",
     "output_type": "stream",
     "text": [
      "Dc: Tensor(\"conv2d_transpose:0\", shape=(1, 8, 8, 1), dtype=float32)\n"
     ]
    }
   ],
   "source": [
    "Dc = tf.nn.conv2d_transpose(comp,to2dW,[1,n,n,1],strides=[1,n,n,1],padding='VALID')\n",
    "print('Dc: ' + str(Dc))"
   ]
  },
  {
   "cell_type": "code",
   "execution_count": 11,
   "metadata": {},
   "outputs": [
    {
     "name": "stdout",
     "output_type": "stream",
     "text": [
      "Dc_o shape: (1, 8, 8, 1)\n",
      "\n",
      "Dc_2d: \n",
      "[[ 9.37499939e+02  9.82029419e+01  7.94020615e+01  6.68032532e+01\n",
      "  -4.07500000e+01  8.61678009e+01  9.35342729e-01 -1.64789917e+02]\n",
      " [ 2.04410362e+00  1.22867004e+02 -1.14696198e+02 -1.61257896e+01\n",
      "   6.38305016e+01  6.71096277e+00  8.94242287e-01  2.76039562e+01]\n",
      " [ 8.35222244e+01 -1.32541977e+02  4.48975983e+01 -9.61035728e+00\n",
      "   1.75434132e+01  3.80550652e+01  3.11038189e+01 -8.01738815e+01]\n",
      " [-6.42647705e+01  1.58439392e+02  5.27777367e+01 -6.43810730e+01\n",
      "  -7.13396149e+01 -2.42038460e+01  6.53008041e+01 -2.52245674e+01]\n",
      " [-7.50000000e+01 -1.21392960e+02 -3.99551697e+01 -2.38254509e+01\n",
      "  -1.57750000e+02  4.27300072e+00  1.34801315e+02  7.62428131e+01]\n",
      " [ 6.43403625e+00  5.35582199e+01  2.63879852e+01  4.28410435e+00\n",
      "  -3.22338219e+01  1.12583485e+01 -1.05793213e+02  7.57401371e+00]\n",
      " [-3.81138153e+01  7.10592499e+01  2.93538303e+01 -1.62391853e+01\n",
      "   5.28060455e+01 -3.48407173e+01 -4.91476097e+01  3.75562515e+01]\n",
      " [ 3.14497585e+01  1.21091904e+02 -3.80394592e+01  9.65442371e+00\n",
      "   4.95724907e+01  5.40577114e-01  5.46123428e+01 -1.72442799e+01]]\n"
     ]
    }
   ],
   "source": [
    "#Run example:\n",
    "with tf.Session() as sess:\n",
    "    Dc_o=sess.run(Dc,feed_dict={Data_in:data_in})\n",
    "    \n",
    "Dc_2d = Dc_o[0,:,:,0]\n",
    "print(\"Dc_o shape: \" + str(Dc_o.shape))\n",
    "#print(\"\\nDc_o: \\n\" + str(Dc_o))\n",
    "print(\"\\nDc_2d: \\n\" + str(Dc_2d))"
   ]
  },
  {
   "cell_type": "code",
   "execution_count": 12,
   "metadata": {},
   "outputs": [],
   "source": [
    "from scipy import fftpack\n",
    "def dct_2d(image):\n",
    "    return fftpack.dct(fftpack.dct(image.T, norm='ortho').T, norm='ortho')"
   ]
  },
  {
   "cell_type": "code",
   "execution_count": 13,
   "metadata": {},
   "outputs": [
    {
     "name": "stdout",
     "output_type": "stream",
     "text": [
      "dc_2d:\n",
      "[[ 9.37500000e+02  9.82030198e+01  7.94020631e+01  6.68032652e+01\n",
      "  -4.07500000e+01  8.61678069e+01  9.35344828e-01 -1.64789941e+02]\n",
      " [ 2.04407907e+00  1.22867017e+02 -1.14696206e+02 -1.61257934e+01\n",
      "   6.38304972e+01  6.71095521e+00  8.94239831e-01  2.76039422e+01]\n",
      " [ 8.35222260e+01 -1.32541979e+02  4.48976009e+01 -9.61036148e+00\n",
      "   1.75434124e+01  3.80550754e+01  3.11038149e+01 -8.01738692e+01]\n",
      " [-6.42647758e+01  1.58439407e+02  5.27777564e+01 -6.43810868e+01\n",
      "  -7.13396231e+01 -2.42038478e+01  6.53008262e+01 -2.52245732e+01]\n",
      " [-7.50000000e+01 -1.21392949e+02 -3.99551736e+01 -2.38254492e+01\n",
      "  -1.57750000e+02  4.27300404e+00  1.34801323e+02  7.62428113e+01]\n",
      " [ 6.43403476e+00  5.35582041e+01  2.63879911e+01  4.28411209e+00\n",
      "  -3.22338093e+01  1.12583506e+01 -1.05793228e+02  7.57402967e+00]\n",
      " [-3.81138134e+01  7.10592543e+01  2.93538149e+01 -1.62391866e+01\n",
      "   5.28060478e+01 -3.48407195e+01 -4.91476009e+01  3.75562520e+01]\n",
      " [ 3.14497778e+01  1.21091902e+02 -3.80394567e+01  9.65442166e+00\n",
      "   4.95724958e+01  5.40575697e-01  5.46123401e+01 -1.72442804e+01]]\n"
     ]
    }
   ],
   "source": [
    "dc_2d = dct_2d(im_c)\n",
    "print('dc_2d:\\n' + str(dc_2d))"
   ]
  },
  {
   "cell_type": "code",
   "execution_count": 14,
   "metadata": {},
   "outputs": [
    {
     "name": "stdout",
     "output_type": "stream",
     "text": [
      "mse= 2.398477636428144e-10\n",
      "dmax= 7.785823599704145e-05\n"
     ]
    }
   ],
   "source": [
    "mse = np.mean(np.square(dc_2d-Dc_2d))\n",
    "print('mse= ' + str(mse))\n",
    "\n",
    "dmax = np.max(np.abs(dc_2d-Dc_2d))\n",
    "print('dmax= ' + str(dmax))"
   ]
  },
  {
   "cell_type": "code",
   "execution_count": 15,
   "metadata": {},
   "outputs": [
    {
     "name": "stdout",
     "output_type": "stream",
     "text": [
      "icompW: Tensor(\"Const_2:0\", shape=(8, 8, 1, 64), dtype=float32)\n"
     ]
    }
   ],
   "source": [
    "idct_kern = np.zeros([n,n,1,64])\n",
    "idct_kern = idct_kern.astype(type1)\n",
    "\n",
    "i_n =0\n",
    "for iu in range(n):\n",
    "    for iv in range(n):\n",
    "        idctW = idct_W(coef_cos, iu, iv, type1, type1)\n",
    "        idct_kern[:,:,0,i_n] = idctW[:,:,0,0]\n",
    "        i_n = i_n + 1\n",
    "\n",
    "#Conv2D kernel\n",
    "icompW = tf.constant(idct_kern)\n",
    "print(\"icompW: \" + str(icompW))"
   ]
  },
  {
   "cell_type": "code",
   "execution_count": 16,
   "metadata": {},
   "outputs": [
    {
     "name": "stdout",
     "output_type": "stream",
     "text": [
      "Tensor(\"Compress_Conv_1/Conv2D:0\", shape=(?, 1, 1, 64), dtype=float32)\n",
      "Dic: Tensor(\"conv2d_transpose_1:0\", shape=(1, 8, 8, 1), dtype=float32)\n"
     ]
    }
   ],
   "source": [
    "with tf.name_scope('Compress_Conv'):\n",
    "    icomp = tf.nn.conv2d(Data_in, icompW, strides=[1, stride_size, stride_size, 1], padding='VALID')\n",
    "    print(icomp)\n",
    "    \n",
    "Dic = tf.nn.conv2d_transpose(icomp,to2dW,[1,n,n,1],strides=[1,n,n,1],padding='VALID')\n",
    "print('Dic: ' + str(Dic))"
   ]
  },
  {
   "cell_type": "code",
   "execution_count": 17,
   "metadata": {},
   "outputs": [
    {
     "data": {
      "text/plain": [
       "array([[150, 146, 174, 138,  16, 136,  67,  65],\n",
       "       [166, 106,  71, 225, 100, 181, 110, 135],\n",
       "       [247, 180,  43, 233, 181,  46,  67,  50],\n",
       "       [ 62, 116, 100,  67,  85, 129, 191,  39],\n",
       "       [143, 104, 203,  73,  27, 169,  12,  28],\n",
       "       [189, 225,  61,  94,  10,  44,  75,  90],\n",
       "       [209, 211,  46, 181,  22, 164, 161, 127],\n",
       "       [ 72,  39,  53,  86,  47, 253, 230, 230]])"
      ]
     },
     "execution_count": 17,
     "metadata": {},
     "output_type": "execute_result"
    }
   ],
   "source": [
    "im_c"
   ]
  },
  {
   "cell_type": "code",
   "execution_count": 18,
   "metadata": {},
   "outputs": [
    {
     "name": "stdout",
     "output_type": "stream",
     "text": [
      "Dic_o shape: (1, 8, 8, 1)\n",
      "\n",
      "Dic_2d: \n",
      "[[150.00002  145.99994  173.99997  137.99998   16.00002  136.\n",
      "   66.99999   65.000015]\n",
      " [165.99995  105.99994   70.999985 224.99997  100.00002  181.00003\n",
      "  110.000015 135.00002 ]\n",
      " [246.99997  179.99995   43.000004 233.00002  180.99998   45.999992\n",
      "   67.00004   50.000027]\n",
      " [ 61.999992 115.99997  100.000015  66.99999   84.99997  129.00003\n",
      "  191.00002   39.00004 ]\n",
      " [142.99997  103.99992  202.99997   72.99999   27.00001  168.99994\n",
      "   12.000029  28.000025]\n",
      " [188.99994  224.99995   60.999996  93.99997   10.00002   43.99997\n",
      "   75.        90.00001 ]\n",
      " [209.00002  210.99995   45.999977 180.99998   21.999992 164.00009\n",
      "  160.99994  127.00002 ]\n",
      " [ 71.99997   38.999966  52.999992  85.99998   46.999992 252.99992\n",
      "  229.99994  230.      ]]\n"
     ]
    }
   ],
   "source": [
    "data_dct = np.zeros([1,input_image_size,input_image_size,NC])\n",
    "data_dct[0,:,:,0] = Dc_2d\n",
    "with tf.Session() as sess:\n",
    "    Dic_o=sess.run(Dic,feed_dict={Data_in:data_dct})\n",
    "    \n",
    "Dic_2d = Dic_o[0,:,:,0]\n",
    "print(\"Dic_o shape: \" + str(Dic_o.shape))\n",
    "#print(\"\\nDc_o: \\n\" + str(Dc_o))\n",
    "print(\"\\nDic_2d: \\n\" + str(Dic_2d))"
   ]
  },
  {
   "cell_type": "code",
   "execution_count": 20,
   "metadata": {},
   "outputs": [
    {
     "name": "stdout",
     "output_type": "stream",
     "text": [
      "mse= 1.1635421515165945e-09\n",
      "mse round= 0.0\n",
      "dmax= 9.1552734375e-05\n"
     ]
    }
   ],
   "source": [
    "mse = np.mean(np.square(Dic_2d-im_c))\n",
    "print('mse= ' + str(mse))\n",
    "\n",
    "mse = np.mean(np.square(np.round(Dic_2d)-im_c))\n",
    "print('mse round= ' + str(mse))\n",
    "\n",
    "dmax = np.max(np.abs(Dic_2d-im_c))\n",
    "print('dmax= ' + str(dmax))"
   ]
  },
  {
   "cell_type": "code",
   "execution_count": null,
   "metadata": {},
   "outputs": [],
   "source": []
  }
 ],
 "metadata": {
  "kernelspec": {
   "display_name": "Python 3",
   "language": "python",
   "name": "python3"
  },
  "language_info": {
   "codemirror_mode": {
    "name": "ipython",
    "version": 3
   },
   "file_extension": ".py",
   "mimetype": "text/x-python",
   "name": "python",
   "nbconvert_exporter": "python",
   "pygments_lexer": "ipython3",
   "version": "3.6.5"
  }
 },
 "nbformat": 4,
 "nbformat_minor": 2
}
